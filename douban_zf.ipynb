{
 "cells": [
  {
   "cell_type": "code",
   "execution_count": 2,
   "metadata": {},
   "outputs": [],
   "source": [
    "import os\n",
    "from lxml import etree\n",
    "import lxml.html\n",
    "from selenium import webdriver\n",
    "from webdriver_manager.chrome import ChromeDriverManager\n",
    "from user_agent import generate_user_agent\n",
    "\n",
    "import requests\n",
    "from tqdm import tqdm\n",
    "import time\n",
    "import json\n",
    "import random\n",
    "\n",
    "import pandas as pd"
   ]
  },
  {
   "cell_type": "code",
   "execution_count": 3,
   "metadata": {},
   "outputs": [],
   "source": [
    "from selenium.webdriver.common.by import By\n",
    "from selenium.webdriver.support.ui import WebDriverWait\n",
    "from selenium.webdriver.support import expected_conditions as EC"
   ]
  },
  {
   "cell_type": "code",
   "execution_count": 4,
   "metadata": {},
   "outputs": [],
   "source": [
    "co = webdriver.ChromeOptions()\n",
    "# co.add_argument('--headless')  # 无界面模式\n",
    "co.add_argument('--disable-images')\n",
    "# co.add_argument('--disable-javascript') #禁用js\n",
    "# co.add_argument('--proxy-server=http://ip:port') #使用代理\n",
    "co.add_argument('--user-agent={}'.format(generate_user_agent(navigator=['chrome'])))"
   ]
  },
  {
   "cell_type": "markdown",
   "metadata": {},
   "source": [
    "# 自动安装 webdriver"
   ]
  },
  {
   "cell_type": "markdown",
   "metadata": {},
   "source": [
    "自动安装webdriver参见：https://stackoverflow.com/questions/60296873/sessionnotcreatedexception-message-session-not-created-this-version-of-chrome/62127806"
   ]
  },
  {
   "cell_type": "code",
   "execution_count": 5,
   "metadata": {},
   "outputs": [
    {
     "name": "stderr",
     "output_type": "stream",
     "text": [
      "[WDM] - ====== WebDriver manager ======\n",
      "[WDM] - Current google-chrome version is 89.0.4389\n",
      "[WDM] - Get LATEST driver version for 89.0.4389\n"
     ]
    },
    {
     "name": "stdout",
     "output_type": "stream",
     "text": [
      "\n",
      "\n"
     ]
    },
    {
     "name": "stderr",
     "output_type": "stream",
     "text": [
      "[WDM] - Driver [/Users/taptap/.wdm/drivers/chromedriver/mac64/89.0.4389.23/chromedriver] found in cache\n"
     ]
    }
   ],
   "source": [
    "browser = webdriver.Chrome(executable_path=ChromeDriverManager().install(),options=co,service_log_path=os.path.devnull)"
   ]
  },
  {
   "cell_type": "markdown",
   "metadata": {},
   "source": [
    "# 抓取租房贴"
   ]
  },
  {
   "cell_type": "markdown",
   "metadata": {},
   "source": [
    "需要登录，否则大概没几页就提示登录了"
   ]
  },
  {
   "cell_type": "code",
   "execution_count": 6,
   "metadata": {},
   "outputs": [],
   "source": [
    "url = 'https://www.douban.com/group/shanghaizufang/discussion?start=0'\n",
    "\n",
    "browser.get(url)"
   ]
  },
  {
   "cell_type": "code",
   "execution_count": 29,
   "metadata": {},
   "outputs": [],
   "source": [
    "def get_topics(url):\n",
    "    \n",
    "    browser.get(url)\n",
    "\n",
    "    html = browser.page_source\n",
    "\n",
    "    s = etree.HTML(html)\n",
    "\n",
    "    url_ls = s.xpath('//table[@class=\"olt\"]//tr[not(contains(@class,\"th\"))]//td[@class=\"title\"]/a/@href')\n",
    "\n",
    "    title_ls = s.xpath('//table[@class=\"olt\"]//tr[not(contains(@class,\"th\"))]//td[@class=\"title\"]/a/@title')\n",
    "    author_ls = s.xpath('//table[@class=\"olt\"]//tr[not(contains(@class,\"th\"))]//td[not(@class)]/a/text()')\n",
    "    author_url_ls = s.xpath('//table[@class=\"olt\"]//tr[not(contains(@class,\"th\"))]//td[not(@class)]/a/@href')\n",
    "    last_response = s.xpath('//table[@class=\"olt\"]//tr[not(contains(@class,\"th\"))]//td[@class=\"time\"]/text()')\n",
    "\n",
    "    df = pd.DataFrame({'url':url_ls,'title':title_ls,'author':author_ls,'author_url':author_url_ls,'last_response':last_response})\n",
    "    \n",
    "    return df"
   ]
  },
  {
   "cell_type": "code",
   "execution_count": 28,
   "metadata": {},
   "outputs": [],
   "source": [
    "df_ls = []"
   ]
  },
  {
   "cell_type": "code",
   "execution_count": null,
   "metadata": {},
   "outputs": [
    {
     "name": "stderr",
     "output_type": "stream",
     "text": [
      " 21%|██▏       | 45/210 [02:00<07:46,  2.82s/it]"
     ]
    }
   ],
   "source": [
    "for idx in tqdm(range(290,500)):\n",
    "    start = idx*25\n",
    "    url = f'https://www.douban.com/group/shanghaizufang/discussion?start={start}'\n",
    "    df = get_topics(url)\n",
    "    if len(df)>0:\n",
    "        df_ls.append(df)\n",
    "        time.sleep(random.choice(range(1,4)))\n",
    "    else:\n",
    "        print(idx)\n",
    "        break"
   ]
  },
  {
   "cell_type": "code",
   "execution_count": 35,
   "metadata": {},
   "outputs": [
    {
     "data": {
      "text/plain": [
       "290"
      ]
     },
     "execution_count": 35,
     "metadata": {},
     "output_type": "execute_result"
    }
   ],
   "source": [
    "len(df_ls)"
   ]
  },
  {
   "cell_type": "code",
   "execution_count": 100,
   "metadata": {},
   "outputs": [
    {
     "data": {
      "text/plain": [
       "(7163, 3)"
      ]
     },
     "execution_count": 100,
     "metadata": {},
     "output_type": "execute_result"
    }
   ],
   "source": [
    "df_res = pd.concat(df_ls)\n",
    "\n",
    "df_res.drop_duplicates(inplace=True)\n",
    "\n",
    "df_res.shape"
   ]
  },
  {
   "cell_type": "markdown",
   "metadata": {},
   "source": [
    "# 过滤一下"
   ]
  },
  {
   "cell_type": "code",
   "execution_count": 93,
   "metadata": {},
   "outputs": [],
   "source": [
    "import re"
   ]
  },
  {
   "cell_type": "code",
   "execution_count": 102,
   "metadata": {},
   "outputs": [],
   "source": [
    "flag_zhuanzu =  df_res['title'].apply(lambda x:'转' in x)\n",
    "\n",
    "flag_subway = df_res['title'].apply(lambda x:re.search('虹桥路|吴中路|漕河泾开发区|姚虹路',x))\n"
   ]
  },
  {
   "cell_type": "code",
   "execution_count": 103,
   "metadata": {},
   "outputs": [
    {
     "data": {
      "text/html": [
       "<div>\n",
       "<style scoped>\n",
       "    .dataframe tbody tr th:only-of-type {\n",
       "        vertical-align: middle;\n",
       "    }\n",
       "\n",
       "    .dataframe tbody tr th {\n",
       "        vertical-align: top;\n",
       "    }\n",
       "\n",
       "    .dataframe thead th {\n",
       "        text-align: right;\n",
       "    }\n",
       "</style>\n",
       "<table border=\"1\" class=\"dataframe\">\n",
       "  <thead>\n",
       "    <tr style=\"text-align: right;\">\n",
       "      <th></th>\n",
       "      <th>url</th>\n",
       "      <th>title</th>\n",
       "      <th>last_response</th>\n",
       "    </tr>\n",
       "  </thead>\n",
       "  <tbody>\n",
       "    <tr>\n",
       "      <th>15</th>\n",
       "      <td>https://www.douban.com/group/topic/215084766/</td>\n",
       "      <td>【个人转租】9号线漕河泾开发区站虹兴苑小区  朝南大卧室只租女生</td>\n",
       "      <td>03-24 17:19</td>\n",
       "    </tr>\n",
       "    <tr>\n",
       "      <th>12</th>\n",
       "      <td>https://www.douban.com/group/topic/216853903/</td>\n",
       "      <td>个人转租，闵行徐汇湘府花园吴中路姚虹路宋园路</td>\n",
       "      <td>03-24 15:47</td>\n",
       "    </tr>\n",
       "    <tr>\n",
       "      <th>20</th>\n",
       "      <td>https://www.douban.com/group/topic/216932044/</td>\n",
       "      <td>个人转租万源新城 9号线合川路、漕河泾开发区近字节跳动</td>\n",
       "      <td>03-24 09:30</td>\n",
       "    </tr>\n",
       "    <tr>\n",
       "      <th>15</th>\n",
       "      <td>https://www.douban.com/group/topic/215950506/</td>\n",
       "      <td>【个人转租】3、4、10号线虹桥路，仅限女生！</td>\n",
       "      <td>03-24 07:41</td>\n",
       "    </tr>\n",
       "    <tr>\n",
       "      <th>10</th>\n",
       "      <td>https://www.douban.com/group/topic/213904892/</td>\n",
       "      <td>9号线 桂林路地铁站 15号线 吴中路地铁站 田林 桂林苑 钦州北路888弄 次卧【转租】</td>\n",
       "      <td>03-23 19:53</td>\n",
       "    </tr>\n",
       "    <tr>\n",
       "      <th>24</th>\n",
       "      <td>https://www.douban.com/group/topic/216255954/</td>\n",
       "      <td>转租合川路地铁站附近近字节，漕河泾开发区可短租4个月</td>\n",
       "      <td>03-23 19:49</td>\n",
       "    </tr>\n",
       "    <tr>\n",
       "      <th>16</th>\n",
       "      <td>https://www.douban.com/group/topic/216585832/</td>\n",
       "      <td>闵行区吴中路朗诗寓转租</td>\n",
       "      <td>03-23 17:52</td>\n",
       "    </tr>\n",
       "  </tbody>\n",
       "</table>\n",
       "</div>"
      ],
      "text/plain": [
       "                                              url  \\\n",
       "15  https://www.douban.com/group/topic/215084766/   \n",
       "12  https://www.douban.com/group/topic/216853903/   \n",
       "20  https://www.douban.com/group/topic/216932044/   \n",
       "15  https://www.douban.com/group/topic/215950506/   \n",
       "10  https://www.douban.com/group/topic/213904892/   \n",
       "24  https://www.douban.com/group/topic/216255954/   \n",
       "16  https://www.douban.com/group/topic/216585832/   \n",
       "\n",
       "                                            title last_response  \n",
       "15               【个人转租】9号线漕河泾开发区站虹兴苑小区  朝南大卧室只租女生   03-24 17:19  \n",
       "12                         个人转租，闵行徐汇湘府花园吴中路姚虹路宋园路   03-24 15:47  \n",
       "20                    个人转租万源新城 9号线合川路、漕河泾开发区近字节跳动   03-24 09:30  \n",
       "15                        【个人转租】3、4、10号线虹桥路，仅限女生！   03-24 07:41  \n",
       "10  9号线 桂林路地铁站 15号线 吴中路地铁站 田林 桂林苑 钦州北路888弄 次卧【转租】   03-23 19:53  \n",
       "24                     转租合川路地铁站附近近字节，漕河泾开发区可短租4个月   03-23 19:49  \n",
       "16                                    闵行区吴中路朗诗寓转租   03-23 17:52  "
      ]
     },
     "execution_count": 103,
     "metadata": {},
     "output_type": "execute_result"
    }
   ],
   "source": [
    "df_res[flag_zhuanzu&flag_subway]"
   ]
  },
  {
   "cell_type": "code",
   "execution_count": 104,
   "metadata": {},
   "outputs": [],
   "source": [
    "browser.quit()"
   ]
  },
  {
   "cell_type": "code",
   "execution_count": null,
   "metadata": {},
   "outputs": [],
   "source": []
  }
 ],
 "metadata": {
  "kernelspec": {
   "display_name": "Python 3",
   "language": "python",
   "name": "python3"
  },
  "language_info": {
   "codemirror_mode": {
    "name": "ipython",
    "version": 3
   },
   "file_extension": ".py",
   "mimetype": "text/x-python",
   "name": "python",
   "nbconvert_exporter": "python",
   "pygments_lexer": "ipython3",
   "version": "3.7.3"
  }
 },
 "nbformat": 4,
 "nbformat_minor": 4
}
